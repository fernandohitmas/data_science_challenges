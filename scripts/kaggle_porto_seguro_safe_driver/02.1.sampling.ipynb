{
 "cells": [
  {
   "cell_type": "markdown",
   "metadata": {},
   "source": [
    "\n",
    "Alunos:\n",
    "  * Arthur Breno dos Reis Paula - 12547382\n",
    "  * Fernando - 8556609\n",
    "  * Mateus Israel Silva - 11735042\n",
    "\n",
    "# Desafio: **Porto Seguro's Safe Driver Prediction**\n",
    "\n",
    "OBJETIVO:\n",
    " - Calcular a probabilidade de um seguro automotivo ser acionado"
   ]
  },
  {
   "cell_type": "markdown",
   "metadata": {},
   "source": [
    "# Biliotecas importadas"
   ]
  },
  {
   "cell_type": "code",
   "execution_count": 90,
   "metadata": {},
   "outputs": [],
   "source": [
    "## Bibliotecas básicas\n",
    "import pandas as pd\n",
    "import numpy as np\n",
    "import matplotlib.pyplot as plt\n",
    "import seaborn as sns\n",
    "\n",
    "## Imputção de dados\n",
    "from sklearn.impute import KNNImputer\n",
    "\n",
    "## Decomposição\n",
    "from sklearn.decomposition import PCA\n",
    "\n",
    "## Pre processamento\n",
    "from sklearn.preprocessing import StandardScaler"
   ]
  },
  {
   "cell_type": "markdown",
   "metadata": {},
   "source": [
    "Configuração gráfica"
   ]
  },
  {
   "cell_type": "code",
   "execution_count": 91,
   "metadata": {},
   "outputs": [],
   "source": [
    "%matplotlib inline"
   ]
  },
  {
   "cell_type": "code",
   "execution_count": 92,
   "metadata": {},
   "outputs": [],
   "source": [
    "sns.set_style('darkgrid')"
   ]
  },
  {
   "cell_type": "markdown",
   "metadata": {},
   "source": [
    "Importação dos dados"
   ]
  },
  {
   "cell_type": "code",
   "execution_count": 93,
   "metadata": {},
   "outputs": [],
   "source": [
    "path_train = '/Users/administrador/Documents/Pessoal/repositorios/data/kaggle_porto_seguro_driver/train.csv'\n",
    "path_test = '/Users/administrador/Documents/Pessoal/repositorios/data/kaggle_porto_seguro_driver/test.csv'"
   ]
  },
  {
   "cell_type": "code",
   "execution_count": 94,
   "metadata": {},
   "outputs": [],
   "source": [
    "dados_brutos = pd.read_csv(path_train)\n",
    "dados_brutos_teste = pd.read_csv(path_test)"
   ]
  },
  {
   "cell_type": "markdown",
   "metadata": {},
   "source": [
    "---"
   ]
  },
  {
   "cell_type": "markdown",
   "metadata": {},
   "source": [
    "# Técnicas de sampling: imbalanced-learn (imblearn)"
   ]
  },
  {
   "cell_type": "code",
   "execution_count": 1,
   "metadata": {},
   "outputs": [],
   "source": [
    "from imblearn.under_sampling import NearMiss"
   ]
  },
  {
   "cell_type": "code",
   "execution_count": 37,
   "metadata": {},
   "outputs": [],
   "source": [
    "sampler = NearMiss(n_jobs=-1)"
   ]
  },
  {
   "cell_type": "code",
   "execution_count": 38,
   "metadata": {},
   "outputs": [],
   "source": [
    "X_res, y_res = sampler.fit_resample(X, y)"
   ]
  },
  {
   "cell_type": "code",
   "execution_count": 39,
   "metadata": {},
   "outputs": [
    {
     "name": "stdout",
     "output_type": "stream",
     "text": [
      "Tamanho do conjunto das variáveis após reamostragem (38300, 54)\n",
      "Tamanho do conjunto do target após reamostragem (38300,)\n"
     ]
    }
   ],
   "source": [
    "print('Tamanho do conjunto das variáveis após reamostragem', X_res.shape)\n",
    "print('Tamanho do conjunto do target após reamostragem', y_res.shape)"
   ]
  },
  {
   "cell_type": "code",
   "execution_count": 40,
   "metadata": {},
   "outputs": [
    {
     "name": "stdout",
     "output_type": "stream",
     "text": [
      "Parametros escolhidos pelo modelo SMOTEENN para balanceamento do conjunto\n"
     ]
    },
    {
     "data": {
      "text/plain": [
       "{'n_jobs': -1,\n",
       " 'n_neighbors': 3,\n",
       " 'n_neighbors_ver3': 3,\n",
       " 'sampling_strategy': 'auto',\n",
       " 'version': 1}"
      ]
     },
     "execution_count": 40,
     "metadata": {},
     "output_type": "execute_result"
    }
   ],
   "source": [
    "print('Parametros escolhidos pelo modelo SMOTEENN para balanceamento do conjunto')\n",
    "sampler.get_params()"
   ]
  },
  {
   "cell_type": "code",
   "execution_count": 41,
   "metadata": {},
   "outputs": [
    {
     "data": {
      "image/png": "[encoded data removed]",
      "text/plain": [
       "<Figure size 640x480 with 1 Axes>"
      ]
     },
     "metadata": {},
     "output_type": "display_data"
    }
   ],
   "source": [
    "y_res = pd.DataFrame(y_res)\n",
    "ax = sns.countplot(y_res, x='target')\n",
    "\n",
    "abs_values = y_res['target'].value_counts(ascending=False)\n",
    "rel_values = y_res['target'].value_counts(ascending=False, normalize=True).values * 100\n",
    "lbls = [f'{p[0]:,} ({p[1]:.0f}%)'.replace(',', '.') for p in zip(abs_values, rel_values)]\n",
    "\n",
    "ax.bar_label(container=ax.containers[0], labels=lbls)\n",
    "plt.show()\n"
   ]
  }
 ],
 "metadata": {
  "kernelspec": {
   "display_name": ".venv",
   "language": "python",
   "name": "python3"
  },
  "language_info": {
   "codemirror_mode": {
    "name": "ipython",
    "version": 3
   },
   "file_extension": ".py",
   "mimetype": "text/x-python",
   "name": "python",
   "nbconvert_exporter": "python",
   "pygments_lexer": "ipython3",
   "version": "3.12.2"
  }
 },
 "nbformat": 4,
 "nbformat_minor": 2
}
